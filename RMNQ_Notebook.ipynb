{
 "cells": [
  {
   "cell_type": "code",
   "execution_count": 1,
   "id": "appropriate-scale",
   "metadata": {
    "scrolled": false
   },
   "outputs": [
    {
     "data": {
      "application/vnd.jupyter.widget-view+json": {
       "model_id": "668eb8e925b04e4ba5e7544701b6bf07",
       "version_major": 2,
       "version_minor": 0
      },
      "text/plain": [
       "FileChooser(path='C:\\Users\\legregam\\Documents\\Projets\\NmrQuant', filename='', title='Select Datafile', show_hi…"
      ]
     },
     "metadata": {},
     "output_type": "display_data"
    },
    {
     "data": {
      "application/vnd.jupyter.widget-view+json": {
       "model_id": "5a5acce2c6bd4b0d9788669adb48df09",
       "version_major": 2,
       "version_minor": 0
      },
      "text/plain": [
       "FileChooser(path='C:\\Users\\legregam\\Documents\\Projets\\NmrQuant', filename='', title='Select Database', show_hi…"
      ]
     },
     "metadata": {},
     "output_type": "display_data"
    },
    {
     "data": {
      "application/vnd.jupyter.widget-view+json": {
       "model_id": "90afdc3eb90e41969c235e8dc6fa5eaf",
       "version_major": 2,
       "version_minor": 0
      },
      "text/plain": [
       "FileChooser(path='C:\\Users\\legregam\\Documents\\Projets\\NmrQuant', filename='', title='Select Template', show_hi…"
      ]
     },
     "metadata": {},
     "output_type": "display_data"
    },
    {
     "data": {
      "application/vnd.jupyter.widget-view+json": {
       "model_id": "b9bbe554e9eb4d38aa9b9ee3d7d233a5",
       "version_major": 2,
       "version_minor": 0
      },
      "text/plain": [
       "Button(description='Submit data', style=ButtonStyle(), tooltip='Click to submit selection')"
      ]
     },
     "metadata": {},
     "output_type": "display_data"
    },
    {
     "data": {
      "application/vnd.jupyter.widget-view+json": {
       "model_id": "8ae1aa3253c74565ab1fcff44e48fc73",
       "version_major": 2,
       "version_minor": 0
      },
      "text/plain": [
       "Checkbox(value=False, description='Mean export', disabled=True, style=DescriptionStyle(description_width='init…"
      ]
     },
     "metadata": {},
     "output_type": "display_data"
    },
    {
     "data": {
      "application/vnd.jupyter.widget-view+json": {
       "model_id": "34181a3762a247d2a5a1f1fe33f4c507",
       "version_major": 2,
       "version_minor": 0
      },
      "text/plain": [
       "Text(value='', description='Dilution factor:', disabled=True, style=DescriptionStyle(description_width='initia…"
      ]
     },
     "metadata": {},
     "output_type": "display_data"
    },
    {
     "data": {
      "application/vnd.jupyter.widget-view+json": {
       "model_id": "56b1d53ec1614d5d9ab121fa854cd1e2",
       "version_major": 2,
       "version_minor": 0
      },
      "text/plain": [
       "Text(value='', description='Strd concentration:', disabled=True, style=DescriptionStyle(description_width='ini…"
      ]
     },
     "metadata": {},
     "output_type": "display_data"
    },
    {
     "data": {
      "application/vnd.jupyter.widget-view+json": {
       "model_id": "d9bab3def5c6450ba87e347f18f409ca",
       "version_major": 2,
       "version_minor": 0
      },
      "text/plain": [
       "Dropdown(description='Choose plot format:', disabled=True, index=1, options=('png', 'svg', 'jpeg'), style=Desc…"
      ]
     },
     "metadata": {},
     "output_type": "display_data"
    },
    {
     "data": {
      "application/vnd.jupyter.widget-view+json": {
       "model_id": "b9fd7a1086364033a52bc9398280fa4c",
       "version_major": 2,
       "version_minor": 0
      },
      "text/plain": [
       "Button(description='Generate Template', disabled=True, style=ButtonStyle(), tooltip='Click to generate templat…"
      ]
     },
     "metadata": {},
     "output_type": "display_data"
    },
    {
     "data": {
      "application/vnd.jupyter.widget-view+json": {
       "model_id": "4bbf311910cf48d195e46d572bcd3b17",
       "version_major": 2,
       "version_minor": 0
      },
      "text/plain": [
       "Button(description='Calculate', disabled=True, style=ButtonStyle(), tooltip='Click to calculate and export')"
      ]
     },
     "metadata": {},
     "output_type": "display_data"
    },
    {
     "data": {
      "application/vnd.jupyter.widget-view+json": {
       "model_id": "ecfc6dbd76ed4dac9b980ab2ca9f50d4",
       "version_major": 2,
       "version_minor": 0
      },
      "text/plain": [
       "SelectMultiple(description='Choose plot(s) to create', disabled=True, index=(0, 0), options=('individual_histo…"
      ]
     },
     "metadata": {},
     "output_type": "display_data"
    },
    {
     "data": {
      "application/vnd.jupyter.widget-view+json": {
       "model_id": "936373708acb4f14a5484686c1d68954",
       "version_major": 2,
       "version_minor": 0
      },
      "text/plain": [
       "Button(description='Make plots', disabled=True, style=ButtonStyle(), tooltip='Click to generate plots')"
      ]
     },
     "metadata": {},
     "output_type": "display_data"
    },
    {
     "name": "stderr",
     "output_type": "stream",
     "text": [
      "2021-12-15 09:34:25 - RMNQ_logger.engine.calculator.Quantifier - INFO - Data has been loaded\n",
      "2021-12-15 09:34:25 - RMNQ_logger.ui.notebook.Rnb - INFO - External calibration detected. Please enter the concentration of standard\n",
      "2021-12-15 09:34:25 - RMNQ_logger.engine.calculator.Quantifier - INFO - Database has been loaded\n",
      "2021-12-15 09:34:25 - RMNQ_logger.engine.calculator.Quantifier - INFO - Reading metadata...\n",
      "2021-12-15 09:34:25 - RMNQ_logger.engine.calculator.Quantifier - INFO - Metadata has been loaded\n",
      "2021-12-15 09:34:25 - RMNQ_logger.ui.notebook.Rnb - INFO - Data variables initialized\n"
     ]
    }
   ],
   "source": [
    "from nmrquant.ui.notebook import Rnb\n",
    "try:\n",
    "    nb.reset(False)\n",
    "except NameError:\n",
    "    nb = Rnb(False)\n",
    "finally:\n",
    "    nb.load_events()\n",
    "    nb.make_gui()"
   ]
  }
 ],
 "metadata": {
  "kernelspec": {
   "display_name": "Python 3 (ipykernel)",
   "language": "python",
   "name": "python3"
  },
  "language_info": {
   "codemirror_mode": {
    "name": "ipython",
    "version": 3
   },
   "file_extension": ".py",
   "mimetype": "text/x-python",
   "name": "python",
   "nbconvert_exporter": "python",
   "pygments_lexer": "ipython3",
   "version": "3.9.1"
  }
 },
 "nbformat": 4,
 "nbformat_minor": 5
}
