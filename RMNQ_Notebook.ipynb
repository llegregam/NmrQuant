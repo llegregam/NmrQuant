{
 "cells": [
  {
   "cell_type": "code",
   "execution_count": null,
   "id": "appropriate-scale",
   "metadata": {
    "scrolled": false
   },
   "outputs": [],
   "source": [
    "from nmrquant.ui.notebook import Rnb\n",
    "try:\n",
    "    nb.reset(False)\n",
    "except NameError:\n",
    "    nb = Rnb(True)\n",
    "finally:\n",
    "    nb.load_events()\n",
    "    nb.make_gui()"
   ]
  }
 ],
 "metadata": {
  "kernelspec": {
   "display_name": "Python 3 (ipykernel)",
   "language": "python",
   "name": "python3"
  },
  "language_info": {
   "codemirror_mode": {
    "name": "ipython",
    "version": 3
   },
   "file_extension": ".py",
   "mimetype": "text/x-python",
   "name": "python",
   "nbconvert_exporter": "python",
   "pygments_lexer": "ipython3",
   "version": "3.9.13"
  }
 },
 "nbformat": 4,
 "nbformat_minor": 5
}
